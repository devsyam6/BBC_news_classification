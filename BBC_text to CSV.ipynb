{
 "cells": [
  {
   "cell_type": "markdown",
   "id": "identified-anger",
   "metadata": {},
   "source": [
    "# converting multiple texts to csv(comma seperated values)"
   ]
  },
  {
   "cell_type": "code",
   "execution_count": 3,
   "id": "binding-valuation",
   "metadata": {},
   "outputs": [
    {
     "name": "stdout",
     "output_type": "stream",
     "text": [
      "DIRECTRY PATH:  /home/jimbrootan/Desktop/bbc\n",
      "BBC FOLDER DETAILS AS LIST:  ['tech', 'entertainment', 'business', 'sport', 'politics']\n"
     ]
    },
    {
     "data": {
      "text/plain": [
       "'/home/jimbrootan/Desktop/bbc'"
      ]
     },
     "execution_count": 3,
     "metadata": {},
     "output_type": "execute_result"
    }
   ],
   "source": [
    "import pandas as pd\n",
    "import numpy as np\n",
    "import os\n",
    "import os.path\n",
    "\n",
    "\n",
    "directory='/home/jimbrootan/Desktop/bbc'\n",
    "print('DIRECTRY PATH: ',directory)\n",
    "folders= os.listdir(directory)\n",
    "print('BBC FOLDER DETAILS AS LIST: ',folders)\n",
    "os.chdir(directory)\n",
    "os.getcwd()"
   ]
  },
  {
   "cell_type": "code",
   "execution_count": 4,
   "id": "norwegian-option",
   "metadata": {},
   "outputs": [],
   "source": [
    "'''Listed all the directories to the path'''\n",
    "\n",
    "path=[]\n",
    "for i in folders:\n",
    "    path.append(os.getcwd()+'/'+i)"
   ]
  },
  {
   "cell_type": "code",
   "execution_count": 8,
   "id": "gothic-academy",
   "metadata": {},
   "outputs": [
    {
     "data": {
      "text/html": [
       "<div>\n",
       "<style scoped>\n",
       "    .dataframe tbody tr th:only-of-type {\n",
       "        vertical-align: middle;\n",
       "    }\n",
       "\n",
       "    .dataframe tbody tr th {\n",
       "        vertical-align: top;\n",
       "    }\n",
       "\n",
       "    .dataframe thead th {\n",
       "        text-align: right;\n",
       "    }\n",
       "</style>\n",
       "<table border=\"1\" class=\"dataframe\">\n",
       "  <thead>\n",
       "    <tr style=\"text-align: right;\">\n",
       "      <th></th>\n",
       "      <th>Category</th>\n",
       "      <th>News</th>\n",
       "    </tr>\n",
       "  </thead>\n",
       "  <tbody>\n",
       "    <tr>\n",
       "      <th>0</th>\n",
       "      <td>tech</td>\n",
       "      <td>Mobile picture power in your pocket  How many ...</td>\n",
       "    </tr>\n",
       "    <tr>\n",
       "      <th>1</th>\n",
       "      <td>tech</td>\n",
       "      <td>When technology gets personal  In 2020, whippi...</td>\n",
       "    </tr>\n",
       "    <tr>\n",
       "      <th>2</th>\n",
       "      <td>tech</td>\n",
       "      <td>Mobiles rack up 20 years of use  Mobile phones...</td>\n",
       "    </tr>\n",
       "    <tr>\n",
       "      <th>3</th>\n",
       "      <td>tech</td>\n",
       "      <td>Parents face video game lessons  Ways of ensur...</td>\n",
       "    </tr>\n",
       "    <tr>\n",
       "      <th>4</th>\n",
       "      <td>tech</td>\n",
       "      <td>Digital guru floats sub-$100 PC  Nicholas Negr...</td>\n",
       "    </tr>\n",
       "  </tbody>\n",
       "</table>\n",
       "</div>"
      ],
      "text/plain": [
       "  Category                                               News\n",
       "0     tech  Mobile picture power in your pocket  How many ...\n",
       "1     tech  When technology gets personal  In 2020, whippi...\n",
       "2     tech  Mobiles rack up 20 years of use  Mobile phones...\n",
       "3     tech  Parents face video game lessons  Ways of ensur...\n",
       "4     tech  Digital guru floats sub-$100 PC  Nicholas Negr..."
      ]
     },
     "execution_count": 8,
     "metadata": {},
     "output_type": "execute_result"
    }
   ],
   "source": [
    "\"creating 2 lists to append the news type and news \"\n",
    "\n",
    "\n",
    "news=[]\n",
    "news_type=[]\n",
    "filename=[]\n",
    "for paths in path:\n",
    "    for file_name in os.listdir(paths):\n",
    "        with open(paths+'/'+file_name,'r',encoding='latin') as f:\n",
    "            data=f.read()\n",
    "            data = data.replace(\"\\n\",\" \").replace('\\r','')\n",
    "            news.append(data)\n",
    "            f.close()\n",
    "        news_type.append(os.path.basename(paths))\n",
    "DataFrame=pd.DataFrame({'Category':news_type,'News':news\n",
    "                       })\n",
    "\n",
    "DataFrame.head()"
   ]
  },
  {
   "cell_type": "code",
   "execution_count": 10,
   "id": "allied-toddler",
   "metadata": {},
   "outputs": [],
   "source": [
    "DataFrame.to_csv('/home/jimbrootan/Desktop/bbc/bbc_news.csv',index=False)"
   ]
  },
  {
   "cell_type": "code",
   "execution_count": null,
   "id": "formal-joyce",
   "metadata": {},
   "outputs": [],
   "source": []
  }
 ],
 "metadata": {
  "kernelspec": {
   "display_name": "Python 3",
   "language": "python",
   "name": "python3"
  },
  "language_info": {
   "codemirror_mode": {
    "name": "ipython",
    "version": 3
   },
   "file_extension": ".py",
   "mimetype": "text/x-python",
   "name": "python",
   "nbconvert_exporter": "python",
   "pygments_lexer": "ipython3",
   "version": "3.8.5"
  }
 },
 "nbformat": 4,
 "nbformat_minor": 5
}
